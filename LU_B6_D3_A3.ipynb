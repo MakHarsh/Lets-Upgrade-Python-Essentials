{
 "cells": [
  {
   "cell_type": "markdown",
   "metadata": {},
   "source": [
    "### 1 . SUM OF 'N' NUMBERS USING WHILE LOOP "
   ]
  },
  {
   "cell_type": "code",
   "execution_count": 5,
   "metadata": {},
   "outputs": [
    {
     "name": "stdout",
     "output_type": "stream",
     "text": [
      "Please enter the desired value :23\n",
      "The sum of the muber is  276\n"
     ]
    }
   ],
   "source": [
    "n=int(input (\"Please enter the desired value = \"))\n",
    "sum=0\n",
    "i = 1\n",
    "while i <=n :\n",
    "    sum =sum+i\n",
    "    i=i+1\n",
    "print(\"The sum of the muber is \",sum)"
   ]
  },
  {
   "cell_type": "markdown",
   "metadata": {},
   "source": [
    "### 2 .TAKE A INTEGER AND FIND PRIME OR NOT"
   ]
  },
  {
   "cell_type": "code",
   "execution_count": 7,
   "metadata": {},
   "outputs": [
    {
     "name": "stdout",
     "output_type": "stream",
     "text": [
      "The specified integer is = 30\n",
      "The specified integer is prime\n"
     ]
    }
   ],
   "source": [
    "n=int(input (\"The specified integer is = \"))\n",
    "if n%2==0:\n",
    "    print (\"The specified integer is prime\")\n",
    "else :\n",
    "    print (\"The specified integer is not a prime \")"
   ]
  },
  {
   "cell_type": "code",
   "execution_count": null,
   "metadata": {},
   "outputs": [],
   "source": []
  }
 ],
 "metadata": {
  "kernelspec": {
   "display_name": "Python 3",
   "language": "python",
   "name": "python3"
  },
  "language_info": {
   "codemirror_mode": {
    "name": "ipython",
    "version": 3
   },
   "file_extension": ".py",
   "mimetype": "text/x-python",
   "name": "python",
   "nbconvert_exporter": "python",
   "pygments_lexer": "ipython3",
   "version": "3.7.7"
  }
 },
 "nbformat": 4,
 "nbformat_minor": 4
}
